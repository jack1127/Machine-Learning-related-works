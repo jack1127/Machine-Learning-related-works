{
 "cells": [
  {
   "cell_type": "markdown",
   "id": "9e61d3f7",
   "metadata": {
    "papermill": {
     "duration": 0.006662,
     "end_time": "2023-09-01T15:13:49.058266",
     "exception": false,
     "start_time": "2023-09-01T15:13:49.051604",
     "status": "completed"
    },
    "tags": []
   },
   "source": [
    "# Import library"
   ]
  },
  {
   "cell_type": "code",
   "execution_count": 1,
   "id": "126c1612",
   "metadata": {
    "execution": {
     "iopub.execute_input": "2023-09-01T15:13:49.072089Z",
     "iopub.status.busy": "2023-09-01T15:13:49.071741Z",
     "iopub.status.idle": "2023-09-01T15:14:03.394350Z",
     "shell.execute_reply": "2023-09-01T15:14:03.392289Z"
    },
    "papermill": {
     "duration": 14.332675,
     "end_time": "2023-09-01T15:14:03.397265",
     "exception": false,
     "start_time": "2023-09-01T15:13:49.064590",
     "status": "completed"
    },
    "tags": []
   },
   "outputs": [
    {
     "name": "stdout",
     "output_type": "stream",
     "text": [
      "Collecting rake_nltk\r\n",
      "  Downloading rake_nltk-1.0.6-py3-none-any.whl (9.1 kB)\r\n",
      "Collecting nltk<4.0.0,>=3.6.2 (from rake_nltk)\r\n",
      "  Downloading nltk-3.8.1-py3-none-any.whl (1.5 MB)\r\n",
      "\u001b[2K     \u001b[90m━━━━━━━━━━━━━━━━━━━━━━━━━━━━━━━━━━━━━━━━\u001b[0m \u001b[32m1.5/1.5 MB\u001b[0m \u001b[31m15.4 MB/s\u001b[0m eta \u001b[36m0:00:00\u001b[0m\r\n",
      "\u001b[?25hRequirement already satisfied: click in /opt/conda/lib/python3.10/site-packages (from nltk<4.0.0,>=3.6.2->rake_nltk) (8.1.7)\r\n",
      "Requirement already satisfied: joblib in /opt/conda/lib/python3.10/site-packages (from nltk<4.0.0,>=3.6.2->rake_nltk) (1.3.2)\r\n",
      "Requirement already satisfied: regex>=2021.8.3 in /opt/conda/lib/python3.10/site-packages (from nltk<4.0.0,>=3.6.2->rake_nltk) (2023.6.3)\r\n",
      "Requirement already satisfied: tqdm in /opt/conda/lib/python3.10/site-packages (from nltk<4.0.0,>=3.6.2->rake_nltk) (4.66.1)\r\n",
      "Installing collected packages: nltk, rake_nltk\r\n",
      "  Attempting uninstall: nltk\r\n",
      "    Found existing installation: nltk 3.2.4\r\n",
      "    Uninstalling nltk-3.2.4:\r\n",
      "      Successfully uninstalled nltk-3.2.4\r\n",
      "\u001b[31mERROR: pip's dependency resolver does not currently take into account all the packages that are installed. This behaviour is the source of the following dependency conflicts.\r\n",
      "preprocessing 0.1.13 requires nltk==3.2.4, but you have nltk 3.8.1 which is incompatible.\u001b[0m\u001b[31m\r\n",
      "\u001b[0mSuccessfully installed nltk-3.8.1 rake_nltk-1.0.6\r\n"
     ]
    }
   ],
   "source": [
    "! pip install rake_nltk"
   ]
  },
  {
   "cell_type": "code",
   "execution_count": 2,
   "id": "d1bfcdd1",
   "metadata": {
    "execution": {
     "iopub.execute_input": "2023-09-01T15:14:03.413461Z",
     "iopub.status.busy": "2023-09-01T15:14:03.413080Z",
     "iopub.status.idle": "2023-09-01T15:14:05.921730Z",
     "shell.execute_reply": "2023-09-01T15:14:05.920313Z"
    },
    "papermill": {
     "duration": 2.521613,
     "end_time": "2023-09-01T15:14:05.926166",
     "exception": false,
     "start_time": "2023-09-01T15:14:03.404553",
     "status": "completed"
    },
    "tags": []
   },
   "outputs": [
    {
     "name": "stdout",
     "output_type": "stream",
     "text": [
      "/kaggle/input/tmdb-movie-metadata/tmdb_5000_movies.csv\n",
      "/kaggle/input/tmdb-movie-metadata/tmdb_5000_credits.csv\n"
     ]
    }
   ],
   "source": [
    "import pandas as pd\n",
    "import numpy as np\n",
    "from rake_nltk import Rake\n",
    "\n",
    "from sklearn.metrics.pairwise import cosine_similarity\n",
    "from sklearn.feature_extraction.text import CountVectorizer\n",
    "\n",
    "from ast import literal_eval\n",
    "\n",
    "import os\n",
    "for dirname, _, filenames in os.walk('/kaggle/input'):\n",
    "    for filename in filenames:\n",
    "        print(os.path.join(dirname, filename))"
   ]
  },
  {
   "cell_type": "markdown",
   "id": "d8401949",
   "metadata": {
    "papermill": {
     "duration": 0.007024,
     "end_time": "2023-09-01T15:14:05.941172",
     "exception": false,
     "start_time": "2023-09-01T15:14:05.934148",
     "status": "completed"
    },
    "tags": []
   },
   "source": [
    "## Import Data Set"
   ]
  },
  {
   "cell_type": "code",
   "execution_count": 3,
   "id": "e8b68c26",
   "metadata": {
    "execution": {
     "iopub.execute_input": "2023-09-01T15:14:05.959680Z",
     "iopub.status.busy": "2023-09-01T15:14:05.959019Z",
     "iopub.status.idle": "2023-09-01T15:14:06.916466Z",
     "shell.execute_reply": "2023-09-01T15:14:06.914556Z"
    },
    "papermill": {
     "duration": 0.971473,
     "end_time": "2023-09-01T15:14:06.920122",
     "exception": false,
     "start_time": "2023-09-01T15:14:05.948649",
     "status": "completed"
    },
    "tags": []
   },
   "outputs": [
    {
     "data": {
      "text/html": [
       "<div>\n",
       "<style scoped>\n",
       "    .dataframe tbody tr th:only-of-type {\n",
       "        vertical-align: middle;\n",
       "    }\n",
       "\n",
       "    .dataframe tbody tr th {\n",
       "        vertical-align: top;\n",
       "    }\n",
       "\n",
       "    .dataframe thead th {\n",
       "        text-align: right;\n",
       "    }\n",
       "</style>\n",
       "<table border=\"1\" class=\"dataframe\">\n",
       "  <thead>\n",
       "    <tr style=\"text-align: right;\">\n",
       "      <th></th>\n",
       "      <th>budget</th>\n",
       "      <th>genres</th>\n",
       "      <th>homepage</th>\n",
       "      <th>id</th>\n",
       "      <th>keywords</th>\n",
       "      <th>original_language</th>\n",
       "      <th>original_title</th>\n",
       "      <th>overview</th>\n",
       "      <th>popularity</th>\n",
       "      <th>production_companies</th>\n",
       "      <th>...</th>\n",
       "      <th>runtime</th>\n",
       "      <th>spoken_languages</th>\n",
       "      <th>status</th>\n",
       "      <th>tagline</th>\n",
       "      <th>title_x</th>\n",
       "      <th>vote_average</th>\n",
       "      <th>vote_count</th>\n",
       "      <th>title_y</th>\n",
       "      <th>cast</th>\n",
       "      <th>crew</th>\n",
       "    </tr>\n",
       "  </thead>\n",
       "  <tbody>\n",
       "    <tr>\n",
       "      <th>0</th>\n",
       "      <td>237000000</td>\n",
       "      <td>[{\"id\": 28, \"name\": \"Action\"}, {\"id\": 12, \"nam...</td>\n",
       "      <td>http://www.avatarmovie.com/</td>\n",
       "      <td>19995</td>\n",
       "      <td>[{\"id\": 1463, \"name\": \"culture clash\"}, {\"id\":...</td>\n",
       "      <td>en</td>\n",
       "      <td>Avatar</td>\n",
       "      <td>In the 22nd century, a paraplegic Marine is di...</td>\n",
       "      <td>150.437577</td>\n",
       "      <td>[{\"name\": \"Ingenious Film Partners\", \"id\": 289...</td>\n",
       "      <td>...</td>\n",
       "      <td>162.0</td>\n",
       "      <td>[{\"iso_639_1\": \"en\", \"name\": \"English\"}, {\"iso...</td>\n",
       "      <td>Released</td>\n",
       "      <td>Enter the World of Pandora.</td>\n",
       "      <td>Avatar</td>\n",
       "      <td>7.2</td>\n",
       "      <td>11800</td>\n",
       "      <td>Avatar</td>\n",
       "      <td>[{\"cast_id\": 242, \"character\": \"Jake Sully\", \"...</td>\n",
       "      <td>[{\"credit_id\": \"52fe48009251416c750aca23\", \"de...</td>\n",
       "    </tr>\n",
       "    <tr>\n",
       "      <th>1</th>\n",
       "      <td>300000000</td>\n",
       "      <td>[{\"id\": 12, \"name\": \"Adventure\"}, {\"id\": 14, \"...</td>\n",
       "      <td>http://disney.go.com/disneypictures/pirates/</td>\n",
       "      <td>285</td>\n",
       "      <td>[{\"id\": 270, \"name\": \"ocean\"}, {\"id\": 726, \"na...</td>\n",
       "      <td>en</td>\n",
       "      <td>Pirates of the Caribbean: At World's End</td>\n",
       "      <td>Captain Barbossa, long believed to be dead, ha...</td>\n",
       "      <td>139.082615</td>\n",
       "      <td>[{\"name\": \"Walt Disney Pictures\", \"id\": 2}, {\"...</td>\n",
       "      <td>...</td>\n",
       "      <td>169.0</td>\n",
       "      <td>[{\"iso_639_1\": \"en\", \"name\": \"English\"}]</td>\n",
       "      <td>Released</td>\n",
       "      <td>At the end of the world, the adventure begins.</td>\n",
       "      <td>Pirates of the Caribbean: At World's End</td>\n",
       "      <td>6.9</td>\n",
       "      <td>4500</td>\n",
       "      <td>Pirates of the Caribbean: At World's End</td>\n",
       "      <td>[{\"cast_id\": 4, \"character\": \"Captain Jack Spa...</td>\n",
       "      <td>[{\"credit_id\": \"52fe4232c3a36847f800b579\", \"de...</td>\n",
       "    </tr>\n",
       "    <tr>\n",
       "      <th>2</th>\n",
       "      <td>245000000</td>\n",
       "      <td>[{\"id\": 28, \"name\": \"Action\"}, {\"id\": 12, \"nam...</td>\n",
       "      <td>http://www.sonypictures.com/movies/spectre/</td>\n",
       "      <td>206647</td>\n",
       "      <td>[{\"id\": 470, \"name\": \"spy\"}, {\"id\": 818, \"name...</td>\n",
       "      <td>en</td>\n",
       "      <td>Spectre</td>\n",
       "      <td>A cryptic message from Bond’s past sends him o...</td>\n",
       "      <td>107.376788</td>\n",
       "      <td>[{\"name\": \"Columbia Pictures\", \"id\": 5}, {\"nam...</td>\n",
       "      <td>...</td>\n",
       "      <td>148.0</td>\n",
       "      <td>[{\"iso_639_1\": \"fr\", \"name\": \"Fran\\u00e7ais\"},...</td>\n",
       "      <td>Released</td>\n",
       "      <td>A Plan No One Escapes</td>\n",
       "      <td>Spectre</td>\n",
       "      <td>6.3</td>\n",
       "      <td>4466</td>\n",
       "      <td>Spectre</td>\n",
       "      <td>[{\"cast_id\": 1, \"character\": \"James Bond\", \"cr...</td>\n",
       "      <td>[{\"credit_id\": \"54805967c3a36829b5002c41\", \"de...</td>\n",
       "    </tr>\n",
       "    <tr>\n",
       "      <th>3</th>\n",
       "      <td>250000000</td>\n",
       "      <td>[{\"id\": 28, \"name\": \"Action\"}, {\"id\": 80, \"nam...</td>\n",
       "      <td>http://www.thedarkknightrises.com/</td>\n",
       "      <td>49026</td>\n",
       "      <td>[{\"id\": 849, \"name\": \"dc comics\"}, {\"id\": 853,...</td>\n",
       "      <td>en</td>\n",
       "      <td>The Dark Knight Rises</td>\n",
       "      <td>Following the death of District Attorney Harve...</td>\n",
       "      <td>112.312950</td>\n",
       "      <td>[{\"name\": \"Legendary Pictures\", \"id\": 923}, {\"...</td>\n",
       "      <td>...</td>\n",
       "      <td>165.0</td>\n",
       "      <td>[{\"iso_639_1\": \"en\", \"name\": \"English\"}]</td>\n",
       "      <td>Released</td>\n",
       "      <td>The Legend Ends</td>\n",
       "      <td>The Dark Knight Rises</td>\n",
       "      <td>7.6</td>\n",
       "      <td>9106</td>\n",
       "      <td>The Dark Knight Rises</td>\n",
       "      <td>[{\"cast_id\": 2, \"character\": \"Bruce Wayne / Ba...</td>\n",
       "      <td>[{\"credit_id\": \"52fe4781c3a36847f81398c3\", \"de...</td>\n",
       "    </tr>\n",
       "    <tr>\n",
       "      <th>4</th>\n",
       "      <td>260000000</td>\n",
       "      <td>[{\"id\": 28, \"name\": \"Action\"}, {\"id\": 12, \"nam...</td>\n",
       "      <td>http://movies.disney.com/john-carter</td>\n",
       "      <td>49529</td>\n",
       "      <td>[{\"id\": 818, \"name\": \"based on novel\"}, {\"id\":...</td>\n",
       "      <td>en</td>\n",
       "      <td>John Carter</td>\n",
       "      <td>John Carter is a war-weary, former military ca...</td>\n",
       "      <td>43.926995</td>\n",
       "      <td>[{\"name\": \"Walt Disney Pictures\", \"id\": 2}]</td>\n",
       "      <td>...</td>\n",
       "      <td>132.0</td>\n",
       "      <td>[{\"iso_639_1\": \"en\", \"name\": \"English\"}]</td>\n",
       "      <td>Released</td>\n",
       "      <td>Lost in our world, found in another.</td>\n",
       "      <td>John Carter</td>\n",
       "      <td>6.1</td>\n",
       "      <td>2124</td>\n",
       "      <td>John Carter</td>\n",
       "      <td>[{\"cast_id\": 5, \"character\": \"John Carter\", \"c...</td>\n",
       "      <td>[{\"credit_id\": \"52fe479ac3a36847f813eaa3\", \"de...</td>\n",
       "    </tr>\n",
       "  </tbody>\n",
       "</table>\n",
       "<p>5 rows × 23 columns</p>\n",
       "</div>"
      ],
      "text/plain": [
       "      budget                                             genres  \\\n",
       "0  237000000  [{\"id\": 28, \"name\": \"Action\"}, {\"id\": 12, \"nam...   \n",
       "1  300000000  [{\"id\": 12, \"name\": \"Adventure\"}, {\"id\": 14, \"...   \n",
       "2  245000000  [{\"id\": 28, \"name\": \"Action\"}, {\"id\": 12, \"nam...   \n",
       "3  250000000  [{\"id\": 28, \"name\": \"Action\"}, {\"id\": 80, \"nam...   \n",
       "4  260000000  [{\"id\": 28, \"name\": \"Action\"}, {\"id\": 12, \"nam...   \n",
       "\n",
       "                                       homepage      id  \\\n",
       "0                   http://www.avatarmovie.com/   19995   \n",
       "1  http://disney.go.com/disneypictures/pirates/     285   \n",
       "2   http://www.sonypictures.com/movies/spectre/  206647   \n",
       "3            http://www.thedarkknightrises.com/   49026   \n",
       "4          http://movies.disney.com/john-carter   49529   \n",
       "\n",
       "                                            keywords original_language  \\\n",
       "0  [{\"id\": 1463, \"name\": \"culture clash\"}, {\"id\":...                en   \n",
       "1  [{\"id\": 270, \"name\": \"ocean\"}, {\"id\": 726, \"na...                en   \n",
       "2  [{\"id\": 470, \"name\": \"spy\"}, {\"id\": 818, \"name...                en   \n",
       "3  [{\"id\": 849, \"name\": \"dc comics\"}, {\"id\": 853,...                en   \n",
       "4  [{\"id\": 818, \"name\": \"based on novel\"}, {\"id\":...                en   \n",
       "\n",
       "                             original_title  \\\n",
       "0                                    Avatar   \n",
       "1  Pirates of the Caribbean: At World's End   \n",
       "2                                   Spectre   \n",
       "3                     The Dark Knight Rises   \n",
       "4                               John Carter   \n",
       "\n",
       "                                            overview  popularity  \\\n",
       "0  In the 22nd century, a paraplegic Marine is di...  150.437577   \n",
       "1  Captain Barbossa, long believed to be dead, ha...  139.082615   \n",
       "2  A cryptic message from Bond’s past sends him o...  107.376788   \n",
       "3  Following the death of District Attorney Harve...  112.312950   \n",
       "4  John Carter is a war-weary, former military ca...   43.926995   \n",
       "\n",
       "                                production_companies  ... runtime  \\\n",
       "0  [{\"name\": \"Ingenious Film Partners\", \"id\": 289...  ...   162.0   \n",
       "1  [{\"name\": \"Walt Disney Pictures\", \"id\": 2}, {\"...  ...   169.0   \n",
       "2  [{\"name\": \"Columbia Pictures\", \"id\": 5}, {\"nam...  ...   148.0   \n",
       "3  [{\"name\": \"Legendary Pictures\", \"id\": 923}, {\"...  ...   165.0   \n",
       "4        [{\"name\": \"Walt Disney Pictures\", \"id\": 2}]  ...   132.0   \n",
       "\n",
       "                                    spoken_languages    status  \\\n",
       "0  [{\"iso_639_1\": \"en\", \"name\": \"English\"}, {\"iso...  Released   \n",
       "1           [{\"iso_639_1\": \"en\", \"name\": \"English\"}]  Released   \n",
       "2  [{\"iso_639_1\": \"fr\", \"name\": \"Fran\\u00e7ais\"},...  Released   \n",
       "3           [{\"iso_639_1\": \"en\", \"name\": \"English\"}]  Released   \n",
       "4           [{\"iso_639_1\": \"en\", \"name\": \"English\"}]  Released   \n",
       "\n",
       "                                          tagline  \\\n",
       "0                     Enter the World of Pandora.   \n",
       "1  At the end of the world, the adventure begins.   \n",
       "2                           A Plan No One Escapes   \n",
       "3                                 The Legend Ends   \n",
       "4            Lost in our world, found in another.   \n",
       "\n",
       "                                    title_x vote_average vote_count  \\\n",
       "0                                    Avatar          7.2      11800   \n",
       "1  Pirates of the Caribbean: At World's End          6.9       4500   \n",
       "2                                   Spectre          6.3       4466   \n",
       "3                     The Dark Knight Rises          7.6       9106   \n",
       "4                               John Carter          6.1       2124   \n",
       "\n",
       "                                    title_y  \\\n",
       "0                                    Avatar   \n",
       "1  Pirates of the Caribbean: At World's End   \n",
       "2                                   Spectre   \n",
       "3                     The Dark Knight Rises   \n",
       "4                               John Carter   \n",
       "\n",
       "                                                cast  \\\n",
       "0  [{\"cast_id\": 242, \"character\": \"Jake Sully\", \"...   \n",
       "1  [{\"cast_id\": 4, \"character\": \"Captain Jack Spa...   \n",
       "2  [{\"cast_id\": 1, \"character\": \"James Bond\", \"cr...   \n",
       "3  [{\"cast_id\": 2, \"character\": \"Bruce Wayne / Ba...   \n",
       "4  [{\"cast_id\": 5, \"character\": \"John Carter\", \"c...   \n",
       "\n",
       "                                                crew  \n",
       "0  [{\"credit_id\": \"52fe48009251416c750aca23\", \"de...  \n",
       "1  [{\"credit_id\": \"52fe4232c3a36847f800b579\", \"de...  \n",
       "2  [{\"credit_id\": \"54805967c3a36829b5002c41\", \"de...  \n",
       "3  [{\"credit_id\": \"52fe4781c3a36847f81398c3\", \"de...  \n",
       "4  [{\"credit_id\": \"52fe479ac3a36847f813eaa3\", \"de...  \n",
       "\n",
       "[5 rows x 23 columns]"
      ]
     },
     "execution_count": 3,
     "metadata": {},
     "output_type": "execute_result"
    }
   ],
   "source": [
    "# import Dataset\n",
    "movies = pd.read_csv('/kaggle/input/tmdb-movie-metadata/tmdb_5000_movies.csv')\n",
    "credits = pd.read_csv('/kaggle/input/tmdb-movie-metadata/tmdb_5000_credits.csv')\n",
    "\n",
    "# To merge two dataset by 'id'\n",
    "credits.columns = ['id', 'title', 'cast', 'crew']\n",
    "\n",
    "DataSet = movies.merge(credits, on = 'id')\n",
    "DataSet.head()"
   ]
  },
  {
   "cell_type": "markdown",
   "id": "fe29e55e",
   "metadata": {
    "papermill": {
     "duration": 0.008249,
     "end_time": "2023-09-01T15:14:06.937288",
     "exception": false,
     "start_time": "2023-09-01T15:14:06.929039",
     "status": "completed"
    },
    "tags": []
   },
   "source": [
    "# Format Processing (Functions)"
   ]
  },
  {
   "cell_type": "code",
   "execution_count": 4,
   "id": "f95986d9",
   "metadata": {
    "execution": {
     "iopub.execute_input": "2023-09-01T15:14:06.956243Z",
     "iopub.status.busy": "2023-09-01T15:14:06.955845Z",
     "iopub.status.idle": "2023-09-01T15:14:15.105376Z",
     "shell.execute_reply": "2023-09-01T15:14:15.104413Z"
    },
    "papermill": {
     "duration": 8.160892,
     "end_time": "2023-09-01T15:14:15.107844",
     "exception": false,
     "start_time": "2023-09-01T15:14:06.946952",
     "status": "completed"
    },
    "tags": []
   },
   "outputs": [
    {
     "data": {
      "text/html": [
       "<div>\n",
       "<style scoped>\n",
       "    .dataframe tbody tr th:only-of-type {\n",
       "        vertical-align: middle;\n",
       "    }\n",
       "\n",
       "    .dataframe tbody tr th {\n",
       "        vertical-align: top;\n",
       "    }\n",
       "\n",
       "    .dataframe thead th {\n",
       "        text-align: right;\n",
       "    }\n",
       "</style>\n",
       "<table border=\"1\" class=\"dataframe\">\n",
       "  <thead>\n",
       "    <tr style=\"text-align: right;\">\n",
       "      <th></th>\n",
       "      <th>id</th>\n",
       "      <th>original_title</th>\n",
       "      <th>genres</th>\n",
       "      <th>keywords</th>\n",
       "      <th>overview</th>\n",
       "      <th>original_language</th>\n",
       "      <th>cast</th>\n",
       "      <th>director</th>\n",
       "    </tr>\n",
       "  </thead>\n",
       "  <tbody>\n",
       "    <tr>\n",
       "      <th>0</th>\n",
       "      <td>19995</td>\n",
       "      <td>Avatar</td>\n",
       "      <td>[action, adventure, fantasy, sciencefiction]</td>\n",
       "      <td>[cultureclash, future, spacewar, spacecolony, ...</td>\n",
       "      <td>In the 22nd century, a paraplegic Marine is di...</td>\n",
       "      <td>en</td>\n",
       "      <td>[samworthington, zoesaldana, sigourneyweaver]</td>\n",
       "      <td>jamescameron</td>\n",
       "    </tr>\n",
       "    <tr>\n",
       "      <th>1</th>\n",
       "      <td>285</td>\n",
       "      <td>Pirates of the Caribbean: At World's End</td>\n",
       "      <td>[adventure, fantasy, action]</td>\n",
       "      <td>[ocean, drugabuse, exoticisland, eastindiatrad...</td>\n",
       "      <td>Captain Barbossa, long believed to be dead, ha...</td>\n",
       "      <td>en</td>\n",
       "      <td>[johnnydepp, orlandobloom, keiraknightley]</td>\n",
       "      <td>goreverbinski</td>\n",
       "    </tr>\n",
       "    <tr>\n",
       "      <th>2</th>\n",
       "      <td>206647</td>\n",
       "      <td>Spectre</td>\n",
       "      <td>[action, adventure, crime]</td>\n",
       "      <td>[spy, basedonnovel, secretagent, sequel, mi6]</td>\n",
       "      <td>A cryptic message from Bond’s past sends him o...</td>\n",
       "      <td>en</td>\n",
       "      <td>[danielcraig, christophwaltz, léaseydoux]</td>\n",
       "      <td>sammendes</td>\n",
       "    </tr>\n",
       "    <tr>\n",
       "      <th>3</th>\n",
       "      <td>49026</td>\n",
       "      <td>The Dark Knight Rises</td>\n",
       "      <td>[action, crime, drama, thriller]</td>\n",
       "      <td>[dccomics, crimefighter, terrorist, secretiden...</td>\n",
       "      <td>Following the death of District Attorney Harve...</td>\n",
       "      <td>en</td>\n",
       "      <td>[christianbale, michaelcaine, garyoldman]</td>\n",
       "      <td>christophernolan</td>\n",
       "    </tr>\n",
       "    <tr>\n",
       "      <th>4</th>\n",
       "      <td>49529</td>\n",
       "      <td>John Carter</td>\n",
       "      <td>[action, adventure, sciencefiction]</td>\n",
       "      <td>[basedonnovel, mars, medallion, spacetravel, p...</td>\n",
       "      <td>John Carter is a war-weary, former military ca...</td>\n",
       "      <td>en</td>\n",
       "      <td>[taylorkitsch, lynncollins, samanthamorton]</td>\n",
       "      <td>andrewstanton</td>\n",
       "    </tr>\n",
       "  </tbody>\n",
       "</table>\n",
       "</div>"
      ],
      "text/plain": [
       "       id                            original_title  \\\n",
       "0   19995                                    Avatar   \n",
       "1     285  Pirates of the Caribbean: At World's End   \n",
       "2  206647                                   Spectre   \n",
       "3   49026                     The Dark Knight Rises   \n",
       "4   49529                               John Carter   \n",
       "\n",
       "                                         genres  \\\n",
       "0  [action, adventure, fantasy, sciencefiction]   \n",
       "1                  [adventure, fantasy, action]   \n",
       "2                    [action, adventure, crime]   \n",
       "3              [action, crime, drama, thriller]   \n",
       "4           [action, adventure, sciencefiction]   \n",
       "\n",
       "                                            keywords  \\\n",
       "0  [cultureclash, future, spacewar, spacecolony, ...   \n",
       "1  [ocean, drugabuse, exoticisland, eastindiatrad...   \n",
       "2      [spy, basedonnovel, secretagent, sequel, mi6]   \n",
       "3  [dccomics, crimefighter, terrorist, secretiden...   \n",
       "4  [basedonnovel, mars, medallion, spacetravel, p...   \n",
       "\n",
       "                                            overview original_language  \\\n",
       "0  In the 22nd century, a paraplegic Marine is di...                en   \n",
       "1  Captain Barbossa, long believed to be dead, ha...                en   \n",
       "2  A cryptic message from Bond’s past sends him o...                en   \n",
       "3  Following the death of District Attorney Harve...                en   \n",
       "4  John Carter is a war-weary, former military ca...                en   \n",
       "\n",
       "                                            cast          director  \n",
       "0  [samworthington, zoesaldana, sigourneyweaver]      jamescameron  \n",
       "1     [johnnydepp, orlandobloom, keiraknightley]     goreverbinski  \n",
       "2      [danielcraig, christophwaltz, léaseydoux]         sammendes  \n",
       "3      [christianbale, michaelcaine, garyoldman]  christophernolan  \n",
       "4    [taylorkitsch, lynncollins, samanthamorton]     andrewstanton  "
      ]
     },
     "execution_count": 4,
     "metadata": {},
     "output_type": "execute_result"
    }
   ],
   "source": [
    "import warnings\n",
    "warnings.filterwarnings('ignore')\n",
    "\n",
    "# Trim dataset to include relevant features\n",
    "df = DataSet[['id', 'original_title', 'genres', 'keywords', 'overview', 'original_language', 'cast', 'crew']]\n",
    "\n",
    "# Parse stringed list features into python objects\n",
    "features = ['keywords', 'genres', 'cast', 'crew']\n",
    "for i in features:\n",
    "    df[i] = DataSet[i].apply(literal_eval)\n",
    "    \n",
    "# Extract list of genres\n",
    "def list_genres(x):\n",
    "    l = [d['name'] for d in x]\n",
    "    return(l)\n",
    "df['genres'] = df['genres'].apply(list_genres)\n",
    "\n",
    "# Extract top 3 cast members\n",
    "def list_cast(x):\n",
    "    l = [d['name'] for d in x]\n",
    "    if len(l) > 3:\n",
    "        l = l[:3]\n",
    "    return(l)\n",
    "df['cast'] = df['cast'].apply(list_cast)\n",
    "\n",
    "# Extract top 5 keywords\n",
    "def list_keywords(x):\n",
    "    l = [d['name'] for d in x]\n",
    "    if len(l) > 5:\n",
    "        l = l[:5]\n",
    "    return(l)\n",
    "df['keywords'] = df['keywords'].apply(list_keywords)\n",
    "\n",
    "# Extract director\n",
    "def get_director(x):\n",
    "    for i in x:\n",
    "        if i['job'] == 'Director':\n",
    "            return i['name']\n",
    "    return np.nan\n",
    "df['director'] = df['crew'].apply(get_director)\n",
    "\n",
    "# Drop the now unnecessary crew feature\n",
    "df = df.drop('crew', axis = 1)\n",
    "\n",
    "# Clean features of spaces and lowercase all to ensure uniques\n",
    "def clean_feat(x):\n",
    "    if isinstance(x, list):\n",
    "        return [i.lower().replace(\" \",\"\") for i in x]\n",
    "    elif isinstance(x, str):\n",
    "        return x.lower().replace(\" \", \"\")\n",
    "    else:\n",
    "        return ''\n",
    "\n",
    "features = ['keywords', 'genres', 'cast', 'director']\n",
    "for i in features:\n",
    "    df[i] = df[i].apply(clean_feat)\n",
    "df.head()"
   ]
  },
  {
   "cell_type": "markdown",
   "id": "06bee68d",
   "metadata": {
    "papermill": {
     "duration": 0.007312,
     "end_time": "2023-09-01T15:14:15.123155",
     "exception": false,
     "start_time": "2023-09-01T15:14:15.115843",
     "status": "completed"
    },
    "tags": []
   },
   "source": [
    "# Missing value Cleaning"
   ]
  },
  {
   "cell_type": "code",
   "execution_count": 5,
   "id": "654e1278",
   "metadata": {
    "execution": {
     "iopub.execute_input": "2023-09-01T15:14:15.141724Z",
     "iopub.status.busy": "2023-09-01T15:14:15.141030Z",
     "iopub.status.idle": "2023-09-01T15:14:15.158282Z",
     "shell.execute_reply": "2023-09-01T15:14:15.156970Z"
    },
    "papermill": {
     "duration": 0.029939,
     "end_time": "2023-09-01T15:14:15.160618",
     "exception": false,
     "start_time": "2023-09-01T15:14:15.130679",
     "status": "completed"
    },
    "tags": []
   },
   "outputs": [
    {
     "data": {
      "text/html": [
       "<div>\n",
       "<style scoped>\n",
       "    .dataframe tbody tr th:only-of-type {\n",
       "        vertical-align: middle;\n",
       "    }\n",
       "\n",
       "    .dataframe tbody tr th {\n",
       "        vertical-align: top;\n",
       "    }\n",
       "\n",
       "    .dataframe thead th {\n",
       "        text-align: right;\n",
       "    }\n",
       "</style>\n",
       "<table border=\"1\" class=\"dataframe\">\n",
       "  <thead>\n",
       "    <tr style=\"text-align: right;\">\n",
       "      <th></th>\n",
       "      <th>0</th>\n",
       "    </tr>\n",
       "  </thead>\n",
       "  <tbody>\n",
       "    <tr>\n",
       "      <th>overview</th>\n",
       "      <td>3</td>\n",
       "    </tr>\n",
       "  </tbody>\n",
       "</table>\n",
       "</div>"
      ],
      "text/plain": [
       "          0\n",
       "overview  3"
      ]
     },
     "execution_count": 5,
     "metadata": {},
     "output_type": "execute_result"
    }
   ],
   "source": [
    "missing = df.columns[df.isnull().any()]\n",
    "df[missing].isnull().sum().to_frame()"
   ]
  },
  {
   "cell_type": "code",
   "execution_count": 6,
   "id": "e1a24596",
   "metadata": {
    "execution": {
     "iopub.execute_input": "2023-09-01T15:14:15.178439Z",
     "iopub.status.busy": "2023-09-01T15:14:15.178016Z",
     "iopub.status.idle": "2023-09-01T15:14:15.200094Z",
     "shell.execute_reply": "2023-09-01T15:14:15.198048Z"
    },
    "papermill": {
     "duration": 0.033835,
     "end_time": "2023-09-01T15:14:15.202445",
     "exception": false,
     "start_time": "2023-09-01T15:14:15.168610",
     "status": "completed"
    },
    "tags": []
   },
   "outputs": [
    {
     "data": {
      "text/html": [
       "<div>\n",
       "<style scoped>\n",
       "    .dataframe tbody tr th:only-of-type {\n",
       "        vertical-align: middle;\n",
       "    }\n",
       "\n",
       "    .dataframe tbody tr th {\n",
       "        vertical-align: top;\n",
       "    }\n",
       "\n",
       "    .dataframe thead th {\n",
       "        text-align: right;\n",
       "    }\n",
       "</style>\n",
       "<table border=\"1\" class=\"dataframe\">\n",
       "  <thead>\n",
       "    <tr style=\"text-align: right;\">\n",
       "      <th></th>\n",
       "      <th>id</th>\n",
       "      <th>original_title</th>\n",
       "      <th>genres</th>\n",
       "      <th>keywords</th>\n",
       "      <th>overview</th>\n",
       "      <th>original_language</th>\n",
       "      <th>cast</th>\n",
       "      <th>director</th>\n",
       "    </tr>\n",
       "  </thead>\n",
       "  <tbody>\n",
       "    <tr>\n",
       "      <th>0</th>\n",
       "      <td>19995</td>\n",
       "      <td>Avatar</td>\n",
       "      <td>[action, adventure, fantasy, sciencefiction]</td>\n",
       "      <td>[cultureclash, future, spacewar, spacecolony, ...</td>\n",
       "      <td>In the 22nd century, a paraplegic Marine is di...</td>\n",
       "      <td>en</td>\n",
       "      <td>[samworthington, zoesaldana, sigourneyweaver]</td>\n",
       "      <td>jamescameron</td>\n",
       "    </tr>\n",
       "    <tr>\n",
       "      <th>1</th>\n",
       "      <td>285</td>\n",
       "      <td>Pirates of the Caribbean: At World's End</td>\n",
       "      <td>[adventure, fantasy, action]</td>\n",
       "      <td>[ocean, drugabuse, exoticisland, eastindiatrad...</td>\n",
       "      <td>Captain Barbossa, long believed to be dead, ha...</td>\n",
       "      <td>en</td>\n",
       "      <td>[johnnydepp, orlandobloom, keiraknightley]</td>\n",
       "      <td>goreverbinski</td>\n",
       "    </tr>\n",
       "    <tr>\n",
       "      <th>2</th>\n",
       "      <td>206647</td>\n",
       "      <td>Spectre</td>\n",
       "      <td>[action, adventure, crime]</td>\n",
       "      <td>[spy, basedonnovel, secretagent, sequel, mi6]</td>\n",
       "      <td>A cryptic message from Bond’s past sends him o...</td>\n",
       "      <td>en</td>\n",
       "      <td>[danielcraig, christophwaltz, léaseydoux]</td>\n",
       "      <td>sammendes</td>\n",
       "    </tr>\n",
       "    <tr>\n",
       "      <th>3</th>\n",
       "      <td>49026</td>\n",
       "      <td>The Dark Knight Rises</td>\n",
       "      <td>[action, crime, drama, thriller]</td>\n",
       "      <td>[dccomics, crimefighter, terrorist, secretiden...</td>\n",
       "      <td>Following the death of District Attorney Harve...</td>\n",
       "      <td>en</td>\n",
       "      <td>[christianbale, michaelcaine, garyoldman]</td>\n",
       "      <td>christophernolan</td>\n",
       "    </tr>\n",
       "    <tr>\n",
       "      <th>4</th>\n",
       "      <td>49529</td>\n",
       "      <td>John Carter</td>\n",
       "      <td>[action, adventure, sciencefiction]</td>\n",
       "      <td>[basedonnovel, mars, medallion, spacetravel, p...</td>\n",
       "      <td>John Carter is a war-weary, former military ca...</td>\n",
       "      <td>en</td>\n",
       "      <td>[taylorkitsch, lynncollins, samanthamorton]</td>\n",
       "      <td>andrewstanton</td>\n",
       "    </tr>\n",
       "  </tbody>\n",
       "</table>\n",
       "</div>"
      ],
      "text/plain": [
       "       id                            original_title  \\\n",
       "0   19995                                    Avatar   \n",
       "1     285  Pirates of the Caribbean: At World's End   \n",
       "2  206647                                   Spectre   \n",
       "3   49026                     The Dark Knight Rises   \n",
       "4   49529                               John Carter   \n",
       "\n",
       "                                         genres  \\\n",
       "0  [action, adventure, fantasy, sciencefiction]   \n",
       "1                  [adventure, fantasy, action]   \n",
       "2                    [action, adventure, crime]   \n",
       "3              [action, crime, drama, thriller]   \n",
       "4           [action, adventure, sciencefiction]   \n",
       "\n",
       "                                            keywords  \\\n",
       "0  [cultureclash, future, spacewar, spacecolony, ...   \n",
       "1  [ocean, drugabuse, exoticisland, eastindiatrad...   \n",
       "2      [spy, basedonnovel, secretagent, sequel, mi6]   \n",
       "3  [dccomics, crimefighter, terrorist, secretiden...   \n",
       "4  [basedonnovel, mars, medallion, spacetravel, p...   \n",
       "\n",
       "                                            overview original_language  \\\n",
       "0  In the 22nd century, a paraplegic Marine is di...                en   \n",
       "1  Captain Barbossa, long believed to be dead, ha...                en   \n",
       "2  A cryptic message from Bond’s past sends him o...                en   \n",
       "3  Following the death of District Attorney Harve...                en   \n",
       "4  John Carter is a war-weary, former military ca...                en   \n",
       "\n",
       "                                            cast          director  \n",
       "0  [samworthington, zoesaldana, sigourneyweaver]      jamescameron  \n",
       "1     [johnnydepp, orlandobloom, keiraknightley]     goreverbinski  \n",
       "2      [danielcraig, christophwaltz, léaseydoux]         sammendes  \n",
       "3      [christianbale, michaelcaine, garyoldman]  christophernolan  \n",
       "4    [taylorkitsch, lynncollins, samanthamorton]     andrewstanton  "
      ]
     },
     "execution_count": 6,
     "metadata": {},
     "output_type": "execute_result"
    }
   ],
   "source": [
    "# Replace NaN from overview with an empty string\n",
    "df[missing] = df[missing].fillna('')\n",
    "df.head()"
   ]
  },
  {
   "cell_type": "markdown",
   "id": "1b8974ca",
   "metadata": {
    "papermill": {
     "duration": 0.007701,
     "end_time": "2023-09-01T15:14:15.218967",
     "exception": false,
     "start_time": "2023-09-01T15:14:15.211266",
     "status": "completed"
    },
    "tags": []
   },
   "source": [
    "# Find keywords"
   ]
  },
  {
   "cell_type": "code",
   "execution_count": 7,
   "id": "05d83ee4",
   "metadata": {
    "execution": {
     "iopub.execute_input": "2023-09-01T15:14:15.238691Z",
     "iopub.status.busy": "2023-09-01T15:14:15.237963Z",
     "iopub.status.idle": "2023-09-01T15:14:17.158140Z",
     "shell.execute_reply": "2023-09-01T15:14:17.156600Z"
    },
    "papermill": {
     "duration": 1.932778,
     "end_time": "2023-09-01T15:14:17.160876",
     "exception": false,
     "start_time": "2023-09-01T15:14:15.228098",
     "status": "completed"
    },
    "tags": []
   },
   "outputs": [],
   "source": [
    "# Initialize empty column\n",
    "df['plotwords'] = ''\n",
    "\n",
    "# function to get keywords from a text\n",
    "def get_keywords(x):\n",
    "    plot = x\n",
    "    \n",
    "    # initialize Rake using english stopwords from NLTK, and all punctuation characters\n",
    "    rake = Rake()\n",
    "    \n",
    "    # extract keywords from text\n",
    "    # https://pypi.org/project/rake-nltk/\n",
    "    rake.extract_keywords_from_text(plot)\n",
    "    \n",
    "    # get dictionary with keywords and scores\n",
    "    scores = rake.get_word_degrees()\n",
    "    \n",
    "    # return new keywords as list, ignoring scores\n",
    "    return(list(scores.keys()))\n",
    "\n",
    "# Apply function to generate keywords\n",
    "df['plotwords'] = df['overview'].apply(get_keywords)\n"
   ]
  },
  {
   "cell_type": "markdown",
   "id": "00a17b08",
   "metadata": {
    "papermill": {
     "duration": 0.008304,
     "end_time": "2023-09-01T15:14:17.178610",
     "exception": false,
     "start_time": "2023-09-01T15:14:17.170306",
     "status": "completed"
    },
    "tags": []
   },
   "source": [
    "# Find important keywords in features"
   ]
  },
  {
   "cell_type": "code",
   "execution_count": 8,
   "id": "f5cd6c0a",
   "metadata": {
    "execution": {
     "iopub.execute_input": "2023-09-01T15:14:17.198093Z",
     "iopub.status.busy": "2023-09-01T15:14:17.197726Z",
     "iopub.status.idle": "2023-09-01T15:14:17.316089Z",
     "shell.execute_reply": "2023-09-01T15:14:17.315146Z"
    },
    "papermill": {
     "duration": 0.131348,
     "end_time": "2023-09-01T15:14:17.318354",
     "exception": false,
     "start_time": "2023-09-01T15:14:17.187006",
     "status": "completed"
    },
    "tags": []
   },
   "outputs": [
    {
     "data": {
      "text/html": [
       "<div>\n",
       "<style scoped>\n",
       "    .dataframe tbody tr th:only-of-type {\n",
       "        vertical-align: middle;\n",
       "    }\n",
       "\n",
       "    .dataframe tbody tr th {\n",
       "        vertical-align: top;\n",
       "    }\n",
       "\n",
       "    .dataframe thead th {\n",
       "        text-align: right;\n",
       "    }\n",
       "</style>\n",
       "<table border=\"1\" class=\"dataframe\">\n",
       "  <thead>\n",
       "    <tr style=\"text-align: right;\">\n",
       "      <th></th>\n",
       "      <th>title</th>\n",
       "      <th>keywords</th>\n",
       "    </tr>\n",
       "  </thead>\n",
       "  <tbody>\n",
       "    <tr>\n",
       "      <th>0</th>\n",
       "      <td>Avatar</td>\n",
       "      <td>action adventure fantasy sciencefiction cultur...</td>\n",
       "    </tr>\n",
       "    <tr>\n",
       "      <th>1</th>\n",
       "      <td>Pirates of the Caribbean: At World's End</td>\n",
       "      <td>adventure fantasy action ocean drugabuse exoti...</td>\n",
       "    </tr>\n",
       "    <tr>\n",
       "      <th>2</th>\n",
       "      <td>Spectre</td>\n",
       "      <td>action adventure crime spy basedonnovel secret...</td>\n",
       "    </tr>\n",
       "    <tr>\n",
       "      <th>3</th>\n",
       "      <td>The Dark Knight Rises</td>\n",
       "      <td>action crime drama thriller dccomics crimefigh...</td>\n",
       "    </tr>\n",
       "    <tr>\n",
       "      <th>4</th>\n",
       "      <td>John Carter</td>\n",
       "      <td>action adventure sciencefiction basedonnovel m...</td>\n",
       "    </tr>\n",
       "  </tbody>\n",
       "</table>\n",
       "</div>"
      ],
      "text/plain": [
       "                                      title  \\\n",
       "0                                    Avatar   \n",
       "1  Pirates of the Caribbean: At World's End   \n",
       "2                                   Spectre   \n",
       "3                     The Dark Knight Rises   \n",
       "4                               John Carter   \n",
       "\n",
       "                                            keywords  \n",
       "0  action adventure fantasy sciencefiction cultur...  \n",
       "1  adventure fantasy action ocean drugabuse exoti...  \n",
       "2  action adventure crime spy basedonnovel secret...  \n",
       "3  action crime drama thriller dccomics crimefigh...  \n",
       "4  action adventure sciencefiction basedonnovel m...  "
      ]
     },
     "execution_count": 8,
     "metadata": {},
     "output_type": "execute_result"
    }
   ],
   "source": [
    "df_keys = pd.DataFrame() \n",
    "\n",
    "df_keys['title'] = df['original_title']\n",
    "df_keys['keywords'] = ''\n",
    "\n",
    "def bag_words(x):\n",
    "    return(' '.join(x['genres']) + ' ' + ' '.join(x['keywords']) + ' ' +  ' '.join(x['cast']) + \n",
    "           ' ' + ' '.join(x['director']) + ' ' + ' '.join(x['plotwords']))\n",
    "df_keys['keywords'] = df.apply(bag_words, axis = 1)\n",
    "\n",
    "df_keys.head()"
   ]
  },
  {
   "cell_type": "markdown",
   "id": "09609d2f",
   "metadata": {
    "papermill": {
     "duration": 0.007829,
     "end_time": "2023-09-01T15:14:17.334676",
     "exception": false,
     "start_time": "2023-09-01T15:14:17.326847",
     "status": "completed"
    },
    "tags": []
   },
   "source": [
    "# BOW(bag of words)"
   ]
  },
  {
   "cell_type": "code",
   "execution_count": 9,
   "id": "05e472fc",
   "metadata": {
    "execution": {
     "iopub.execute_input": "2023-09-01T15:14:17.353866Z",
     "iopub.status.busy": "2023-09-01T15:14:17.353345Z",
     "iopub.status.idle": "2023-09-01T15:14:17.586403Z",
     "shell.execute_reply": "2023-09-01T15:14:17.585324Z"
    },
    "papermill": {
     "duration": 0.24593,
     "end_time": "2023-09-01T15:14:17.588942",
     "exception": false,
     "start_time": "2023-09-01T15:14:17.343012",
     "status": "completed"
    },
    "tags": []
   },
   "outputs": [],
   "source": [
    "# Convert words into term frequency matrix\n",
    "cv = CountVectorizer()\n",
    "# Count frequency for each term and do normalization\n",
    "cv_mx = cv.fit_transform(df_keys['keywords'])"
   ]
  },
  {
   "cell_type": "markdown",
   "id": "22fbb50b",
   "metadata": {
    "papermill": {
     "duration": 0.007851,
     "end_time": "2023-09-01T15:14:17.605507",
     "exception": false,
     "start_time": "2023-09-01T15:14:17.597656",
     "status": "completed"
    },
    "tags": []
   },
   "source": [
    "# Cosine similarity (calculate similarity)"
   ]
  },
  {
   "cell_type": "code",
   "execution_count": 10,
   "id": "dcd4b7fe",
   "metadata": {
    "execution": {
     "iopub.execute_input": "2023-09-01T15:14:17.623646Z",
     "iopub.status.busy": "2023-09-01T15:14:17.623202Z",
     "iopub.status.idle": "2023-09-01T15:14:18.195563Z",
     "shell.execute_reply": "2023-09-01T15:14:18.194904Z"
    },
    "papermill": {
     "duration": 0.58458,
     "end_time": "2023-09-01T15:14:18.198143",
     "exception": false,
     "start_time": "2023-09-01T15:14:17.613563",
     "status": "completed"
    },
    "tags": []
   },
   "outputs": [
    {
     "data": {
      "text/plain": [
       "array([[1.        , 0.10527936, 0.06299408, ..., 0.        , 0.        ,\n",
       "        0.        ],\n",
       "       [0.10527936, 1.        , 0.09284767, ..., 0.02438299, 0.        ,\n",
       "        0.        ],\n",
       "       [0.06299408, 0.09284767, 1.        , ..., 0.02188441, 0.        ,\n",
       "        0.        ],\n",
       "       ...,\n",
       "       [0.        , 0.02438299, 0.02188441, ..., 1.        , 0.05938557,\n",
       "        0.03959038],\n",
       "       [0.        , 0.        , 0.        , ..., 0.05938557, 1.        ,\n",
       "        0.06818182],\n",
       "       [0.        , 0.        , 0.        , ..., 0.03959038, 0.06818182,\n",
       "        1.        ]])"
      ]
     },
     "execution_count": 10,
     "metadata": {},
     "output_type": "execute_result"
    }
   ],
   "source": [
    "# create cosine similarity matrix\n",
    "cosine_sim = cosine_similarity(cv_mx, cv_mx)\n",
    "cosine_sim"
   ]
  },
  {
   "cell_type": "markdown",
   "id": "fdf2f7e8",
   "metadata": {
    "papermill": {
     "duration": 0.007873,
     "end_time": "2023-09-01T15:14:18.214995",
     "exception": false,
     "start_time": "2023-09-01T15:14:18.207122",
     "status": "completed"
    },
    "tags": []
   },
   "source": [
    "# Create list of indices"
   ]
  },
  {
   "cell_type": "code",
   "execution_count": 11,
   "id": "9243df34",
   "metadata": {
    "execution": {
     "iopub.execute_input": "2023-09-01T15:14:18.233984Z",
     "iopub.status.busy": "2023-09-01T15:14:18.233452Z",
     "iopub.status.idle": "2023-09-01T15:14:18.239838Z",
     "shell.execute_reply": "2023-09-01T15:14:18.237652Z"
    },
    "papermill": {
     "duration": 0.020344,
     "end_time": "2023-09-01T15:14:18.243678",
     "exception": false,
     "start_time": "2023-09-01T15:14:18.223334",
     "status": "completed"
    },
    "tags": []
   },
   "outputs": [],
   "source": [
    "# create list of indices to title for later matching\n",
    "indices = pd.Series(df_keys.index, index = df_keys['title'])"
   ]
  },
  {
   "cell_type": "markdown",
   "id": "a0584331",
   "metadata": {
    "papermill": {
     "duration": 0.008236,
     "end_time": "2023-09-01T15:14:18.261015",
     "exception": false,
     "start_time": "2023-09-01T15:14:18.252779",
     "status": "completed"
    },
    "tags": []
   },
   "source": [
    "# Recommend Function \n",
    "# (input title and n, output n the most relative moives)"
   ]
  },
  {
   "cell_type": "code",
   "execution_count": 12,
   "id": "4ecdbecb",
   "metadata": {
    "execution": {
     "iopub.execute_input": "2023-09-01T15:14:18.279657Z",
     "iopub.status.busy": "2023-09-01T15:14:18.278875Z",
     "iopub.status.idle": "2023-09-01T15:14:18.285203Z",
     "shell.execute_reply": "2023-09-01T15:14:18.284318Z"
    },
    "papermill": {
     "duration": 0.018309,
     "end_time": "2023-09-01T15:14:18.287585",
     "exception": false,
     "start_time": "2023-09-01T15:14:18.269276",
     "status": "completed"
    },
    "tags": []
   },
   "outputs": [],
   "source": [
    "def recommend_movie(title, n = 10, cosine_sim = cosine_sim):\n",
    "    movies = []\n",
    "    \n",
    "    # retrieve matching movie title index\n",
    "    if title not in indices.index:\n",
    "        print(\"Movie not in database.\")\n",
    "        return\n",
    "    else:\n",
    "        idx = indices[title]\n",
    "    \n",
    "    # cosine similarity scores of movies in descending order\n",
    "    scores = pd.Series(cosine_sim[idx]).sort_values(ascending = False)\n",
    "    \n",
    "    # top n most similar movies indexes\n",
    "    # use 1:n because 0 is the same movie entered\n",
    "    top_n_idx = list(scores.iloc[1:n+1].index)\n",
    "        \n",
    "    return df_keys['title'].iloc[top_n_idx]"
   ]
  },
  {
   "cell_type": "markdown",
   "id": "08396368",
   "metadata": {
    "papermill": {
     "duration": 0.00854,
     "end_time": "2023-09-01T15:14:18.304867",
     "exception": false,
     "start_time": "2023-09-01T15:14:18.296327",
     "status": "completed"
    },
    "tags": []
   },
   "source": [
    "# Testing"
   ]
  },
  {
   "cell_type": "code",
   "execution_count": 13,
   "id": "cbdab29d",
   "metadata": {
    "execution": {
     "iopub.execute_input": "2023-09-01T15:14:18.325466Z",
     "iopub.status.busy": "2023-09-01T15:14:18.325078Z",
     "iopub.status.idle": "2023-09-01T15:14:18.334474Z",
     "shell.execute_reply": "2023-09-01T15:14:18.332923Z"
    },
    "papermill": {
     "duration": 0.022038,
     "end_time": "2023-09-01T15:14:18.336396",
     "exception": false,
     "start_time": "2023-09-01T15:14:18.314358",
     "status": "completed"
    },
    "tags": []
   },
   "outputs": [
    {
     "data": {
      "text/plain": [
       "343                    Toy Story 2\n",
       "42                     Toy Story 3\n",
       "837                     Free Birds\n",
       "221                Stuart Little 2\n",
       "2325    My Big Fat Greek Wedding 2\n",
       "Name: title, dtype: object"
      ]
     },
     "execution_count": 13,
     "metadata": {},
     "output_type": "execute_result"
    }
   ],
   "source": [
    "recommend_movie('Toy Story', n = 5)"
   ]
  },
  {
   "cell_type": "code",
   "execution_count": 14,
   "id": "b4082f55",
   "metadata": {
    "execution": {
     "iopub.execute_input": "2023-09-01T15:14:18.357738Z",
     "iopub.status.busy": "2023-09-01T15:14:18.357077Z",
     "iopub.status.idle": "2023-09-01T15:14:18.365177Z",
     "shell.execute_reply": "2023-09-01T15:14:18.363716Z"
    },
    "papermill": {
     "duration": 0.022282,
     "end_time": "2023-09-01T15:14:18.368016",
     "exception": false,
     "start_time": "2023-09-01T15:14:18.345734",
     "status": "completed"
    },
    "tags": []
   },
   "outputs": [
    {
     "data": {
      "text/plain": [
       "7                   Avengers: Age of Ultron\n",
       "174                     The Incredible Hulk\n",
       "511                                   X-Men\n",
       "85      Captain America: The Winter Soldier\n",
       "79                               Iron Man 2\n",
       "26               Captain America: Civil War\n",
       "169      Captain America: The First Avenger\n",
       "68                                 Iron Man\n",
       "31                               Iron Man 3\n",
       "4401                    The Helix... Loaded\n",
       "Name: title, dtype: object"
      ]
     },
     "execution_count": 14,
     "metadata": {},
     "output_type": "execute_result"
    }
   ],
   "source": [
    "recommend_movie('The Avengers')"
   ]
  }
 ],
 "kernelspec": {
  "display_name": "Python 3",
  "language": "python",
  "name": "python3"
 },
 "language_info": {
  "codemirror_mode": {
   "name": "ipython",
   "version": 3
  },
  "file_extension": ".py",
  "mimetype": "text/x-python",
  "name": "python",
  "nbconvert_exporter": "python",
  "pygments_lexer": "ipython3",
  "version": "3.6.4"
 },
 "metadata": {
  "kernelspec": {
   "display_name": "Python 3",
   "language": "python",
   "name": "python3"
  },
  "language_info": {
   "codemirror_mode": {
    "name": "ipython",
    "version": 3
   },
   "file_extension": ".py",
   "mimetype": "text/x-python",
   "name": "python",
   "nbconvert_exporter": "python",
   "pygments_lexer": "ipython3",
   "version": "3.10.12"
  },
  "papermill": {
   "default_parameters": {},
   "duration": 33.147796,
   "end_time": "2023-09-01T15:14:19.099787",
   "environment_variables": {},
   "exception": null,
   "input_path": "__notebook__.ipynb",
   "output_path": "__notebook__.ipynb",
   "parameters": {},
   "start_time": "2023-09-01T15:13:45.951991",
   "version": "2.4.0"
  }
 },
 "nbformat": 4,
 "nbformat_minor": 5
}
